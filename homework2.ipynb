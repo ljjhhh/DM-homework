{
 "cells": [
  {
   "cell_type": "code",
   "execution_count": 1,
   "metadata": {
    "scrolled": true
   },
   "outputs": [
    {
     "data": {
      "text/plain": [
       "['ocs_result', 'winemag-data-130k-v2.csv', 'winemag-data_first150k.csv']"
      ]
     },
     "execution_count": 1,
     "metadata": {},
     "output_type": "execute_result"
    }
   ],
   "source": [
    "import numpy as np\n",
    "import pandas as pd\n",
    "import matplotlib.pyplot as plt\n",
    "import seaborn as sns\n",
    "import sys\n",
    "import json\n",
    "import os\n",
    "co_path ='E:\\dataset'\n",
    "os.chdir(co_path)\n",
    "os.listdir(co_path)"
   ]
  },
  {
   "cell_type": "code",
   "execution_count": 2,
   "metadata": {},
   "outputs": [],
   "source": [
    "class Apriori(object): #Apriori algorithm\n",
    "    def __init__(self, min_support = 0.1, min_confidence = 0.5):\n",
    "        self.min_support = min_support\n",
    "        self.min_confidence = min_confidence\n",
    "\n",
    "    def get_frequent_items(self, dataset):\n",
    "        # 构建可能的单元素候选项集合\n",
    "        C1 = []\n",
    "        for data in dataset:\n",
    "            for item in data:\n",
    "                if [item] not in C1:\n",
    "                    C1.append([item])\n",
    "        C1 = [frozenset(item) for item in C1]\n",
    "        \n",
    "        dataset = [set(data) for data in dataset]\n",
    "    \n",
    "        L1, support_data = self._filter(dataset, C1)\n",
    "        L = [L1]\n",
    "        k = 2\n",
    "        while len(L[k-2]) > 0:\n",
    "            Ck = self._gen(L[k-2], k)\n",
    "            Lk, support_k = self._filter(dataset, Ck)\n",
    "            support_data.update(support_k)\n",
    "            L.append(Lk)\n",
    "            k += 1\n",
    "        return L, support_data\n",
    "    \n",
    "    def _filter(self, dataset, Ck):\n",
    "        # 判断数据集D中Ck元素的出现频率\n",
    "        Ck_count = dict()\n",
    "        for data in dataset:\n",
    "            for cand in Ck:\n",
    "                if cand.issubset(data):\n",
    "                    if cand not in Ck_count:\n",
    "                        Ck_count[cand] = 1\n",
    "                    else:\n",
    "                        Ck_count[cand] += 1\n",
    "\n",
    "        num_items = float(len(dataset))\n",
    "        return_list = []\n",
    "        support_data = dict()\n",
    "        # 过滤掉低于最小支持度的项集\n",
    "        for key in Ck_count:\n",
    "            support  = Ck_count[key] / num_items\n",
    "            if support >= self.min_support:\n",
    "                return_list.insert(0, key)\n",
    "            support_data[key] = support\n",
    "        return return_list, support_data\n",
    "\n",
    "    def _gen(self, Lk, k):\n",
    "        #合并的同时处理重复\n",
    "        return_list = []\n",
    "        len_Lk = len(Lk)\n",
    "        for i in range(len_Lk):\n",
    "            for j in range(i+1, len_Lk):\n",
    "                # 第k-2个项相同时，将两个集合合并\n",
    "                L1 = list(Lk[i])[:k-2]\n",
    "                L2 = list(Lk[j])[:k-2]\n",
    "                L1.sort()\n",
    "                L2.sort()\n",
    "                if L1 == L2:\n",
    "                    return_list.append(Lk[i] | Lk[j])\n",
    "        return return_list\n",
    "\n",
    "    def get_rules(self, L, support_data):\n",
    "        # 使用分级法生成关联规则\n",
    "        big_rules_list = []\n",
    "        for i in range(1, len(L)):\n",
    "            for freq_set in L[i]:\n",
    "                H1 = [frozenset([item]) for item in freq_set]\n",
    "                # 只获取有两个或更多元素的集合\n",
    "                if i > 1:\n",
    "                    self._generate_rules(freq_set, H1, support_data, big_rules_list)\n",
    "                else:\n",
    "                    self._eval(freq_set, H1, support_data, big_rules_list)\n",
    "        return big_rules_list\n",
    "\n",
    "    def _generate_rules(self, freq_set, H, support_data, big_rules_list):\n",
    "        # 递归生成规则\n",
    "        m = len(H[0])\n",
    "        if len(freq_set) > (m+1):\n",
    "            Hmp1 = self._gen(H, m+1)\n",
    "            Hmp1 = self._eval(freq_set, Hmp1, support_data, big_rules_list)\n",
    "            if len(Hmp1) > 1:\n",
    "                self._generate_rules(freq_set, Hmp1, support_data, big_rules_list)\n",
    "\n",
    "    def _eval(self, freq_set, H, support_data, big_rules_list):\n",
    "        # 评估生成的规则\n",
    "        prunedH = []\n",
    "        for conseq in H:\n",
    "            sup = support_data[freq_set]\n",
    "            conf = sup / support_data[freq_set - conseq]\n",
    "            lift = conf / support_data[freq_set - conseq]\n",
    "            jaccard = sup / (support_data[freq_set - conseq] + support_data[conseq] - sup)\n",
    "            if conf >= self.min_confidence:\n",
    "                big_rules_list.append((freq_set-conseq, conseq, sup, conf, lift,jaccard))\n",
    "                prunedH.append(conseq)\n",
    "        return prunedH\n",
    "    "
   ]
  },
  {
   "cell_type": "code",
   "execution_count": 3,
   "metadata": {
    "scrolled": false
   },
   "outputs": [
    {
     "name": "stdout",
     "output_type": "stream",
     "text": [
      "start\n",
      "end\n",
      "save done\n"
     ]
    }
   ],
   "source": [
    "min_support = 0.1\n",
    "min_confidence = 0.5\n",
    "head_n = 50000\n",
    "apriori = Apriori(min_support=min_support,min_confidence=min_confidence)\n",
    "\n",
    "# 读取数据至数据字典\n",
    "data = pd.read_csv(\"winemag-data_first150k.csv\", encoding=\"utf-8\")\n",
    "attributes=[\"country\", \"description\", \"designation\", \"points\", \"price\", \"province\", \"region_1\", \"region_2\", \"winery\"]\n",
    "data_ = data[attributes]\n",
    "data_all = data_.dropna(how='any')\n",
    "rows = None\n",
    "rows = data_all.head(head_n).values.tolist()\n",
    "dataset = []\n",
    "for data_line in rows:\n",
    "    data_set = []\n",
    "    for i, value in enumerate(data_line):\n",
    "        if not value:\n",
    "            data_set.append((attributes[i], 'NA'))\n",
    "        else:\n",
    "            data_set.append((attributes[i], value))\n",
    "    dataset.append(data_set)\n",
    "\n",
    "print(\"start\")\n",
    "# 获取频繁项集\n",
    "freq_set, sup_rata = apriori.get_frequent_items(dataset)\n",
    "sup_rata_out = sorted(sup_rata.items(), key=lambda d: d[1], reverse=True)\n",
    "# 获取关联规则\n",
    "strong_rules_list = apriori.get_rules(freq_set, sup_rata)\n",
    "strong_rules_list = sorted(strong_rules_list, key=lambda x: x[3], reverse=True)\n",
    "print(\"end\")\n",
    "\n",
    "# 分别存储频繁项集和关联规则\n",
    "freq_set_file = open(\"./ocs_result/fterms.json\", 'w')\n",
    "for (key, value) in sup_rata_out:\n",
    "    result_dict = {'set': None, 'sup': None}\n",
    "    set_result = list(key)\n",
    "    sup_result = value\n",
    "    if sup_result < min_support:\n",
    "        continue\n",
    "    result_dict['set'] = set_result\n",
    "    result_dict['sup'] = sup_result\n",
    "    json_str = json.dumps(result_dict, ensure_ascii=False)\n",
    "    freq_set_file.write(json_str + '\\n')\n",
    "freq_set_file.close()\n",
    "rules_file = open(\"./ocs_result/rules.json\", 'w')\n",
    "for result in strong_rules_list:\n",
    "    result_dict = {'X_set': None, 'Y_set': None, 'sup': None, 'conf': None, 'lift': None, 'jaccard': None}\n",
    "    X_set, Y_set, sup, conf, lift, jaccard = result\n",
    "    result_dict['X_set'] = list(X_set)\n",
    "    result_dict['Y_set'] = list(Y_set)\n",
    "    result_dict['sup'] = sup\n",
    "    result_dict['conf'] = conf\n",
    "    result_dict['lift'] = lift\n",
    "    result_dict['jaccard'] = jaccard\n",
    "    json_str = json.dumps(result_dict, ensure_ascii=False)\n",
    "    rules_file.write(json_str + '\\n')\n",
    "rules_file.close()\n",
    "print(\"save done\")\n"
   ]
  },
  {
   "cell_type": "code",
   "execution_count": 4,
   "metadata": {},
   "outputs": [
    {
     "name": "stdout",
     "output_type": "stream",
     "text": [
      "freq:\n",
      "[{'set': [['country', 'US']], 'sup': 1.0}, {'set': [['province', 'California']], 'sup': 0.7277337478657526}, {'set': [['province', 'California'], ['country', 'US']], 'sup': 0.7277337478657526}, {'set': [['region_2', 'Central Coast']], 'sup': 0.2331744858693713}, {'set': [['province', 'California'], ['region_2', 'Central Coast']], 'sup': 0.2331744858693713}, {'set': [['country', 'US'], ['region_2', 'Central Coast']], 'sup': 0.2331744858693713}, {'set': [['province', 'California'], ['country', 'US'], ['region_2', 'Central Coast']], 'sup': 0.2331744858693713}, {'set': [['region_2', 'Sonoma']], 'sup': 0.19841492316709564}, {'set': [['province', 'California'], ['region_2', 'Sonoma']], 'sup': 0.19841492316709564}, {'set': [['country', 'US'], ['region_2', 'Sonoma']], 'sup': 0.19841492316709564}, {'set': [['province', 'California'], ['country', 'US'], ['region_2', 'Sonoma']], 'sup': 0.19841492316709564}, {'set': [['province', 'Washington']], 'sup': 0.15601029535434877}, {'set': [['country', 'US'], ['province', 'Washington']], 'sup': 0.15601029535434877}, {'set': [['region_2', 'Columbia Valley']], 'sup': 0.1474223388802528}, {'set': [['province', 'Washington'], ['region_2', 'Columbia Valley']], 'sup': 0.1474223388802528}, {'set': [['country', 'US'], ['region_2', 'Columbia Valley']], 'sup': 0.1474223388802528}, {'set': [['country', 'US'], ['province', 'Washington'], ['region_2', 'Columbia Valley']], 'sup': 0.1474223388802528}, {'set': [['region_2', 'Napa']], 'sup': 0.13016997528095614}, {'set': [['province', 'California'], ['region_2', 'Napa']], 'sup': 0.13016997528095614}, {'set': [['region_2', 'Napa'], ['country', 'US']], 'sup': 0.13016997528095614}, {'set': [['province', 'California'], ['region_2', 'Napa'], ['country', 'US']], 'sup': 0.13016997528095614}, {'set': [['points', 87]], 'sup': 0.12530261716062283}, {'set': [['points', 87], ['country', 'US']], 'sup': 0.12530261716062283}, {'set': [['points', 90]], 'sup': 0.11115924670625112}, {'set': [['points', 90], ['country', 'US']], 'sup': 0.11115924670625112}, {'set': [['points', 88]], 'sup': 0.10552738207487067}, {'set': [['country', 'US'], ['points', 88]], 'sup': 0.10552738207487067}]\n"
     ]
    }
   ],
   "source": [
    "with open(\"./ocs_result/fterms.json\") as f1:\n",
    "    freq = [json.loads(each) for each in f1.readlines()]\n",
    "    freq_sup = [each[\"sup\"] for each in freq]\n",
    "    print(\"freq:\")\n",
    "    print(freq)"
   ]
  },
  {
   "cell_type": "code",
   "execution_count": 5,
   "metadata": {},
   "outputs": [
    {
     "name": "stdout",
     "output_type": "stream",
     "text": [
      "rules:\n",
      "[{'X_set': [['points', 87]], 'Y_set': [['country', 'US']], 'sup': 0.12530261716062283, 'conf': 1.0, 'lift': 7.980679275981289, 'jaccard': 0.12530261716062283}, {'X_set': [['points', 88]], 'Y_set': [['country', 'US']], 'sup': 0.10552738207487067, 'conf': 1.0, 'lift': 9.476213475006038, 'jaccard': 0.10552738207487067}, {'X_set': [['points', 90]], 'Y_set': [['country', 'US']], 'sup': 0.11115924670625112, 'conf': 1.0, 'lift': 8.996102705181109, 'jaccard': 0.11115924670625112}, {'X_set': [['province', 'Washington']], 'Y_set': [['country', 'US']], 'sup': 0.15601029535434877, 'conf': 1.0, 'lift': 6.409833387781771, 'jaccard': 0.15601029535434877}, {'X_set': [['region_2', 'Columbia Valley']], 'Y_set': [['country', 'US']], 'sup': 0.1474223388802528, 'conf': 1.0, 'lift': 6.783232497839239, 'jaccard': 0.1474223388802528}, {'X_set': [['region_2', 'Columbia Valley']], 'Y_set': [['province', 'Washington']], 'sup': 0.1474223388802528, 'conf': 1.0, 'lift': 6.783232497839239, 'jaccard': 0.9449526298595232}, {'X_set': [['region_2', 'Central Coast']], 'Y_set': [['country', 'US']], 'sup': 0.2331744858693713, 'conf': 1.0, 'lift': 4.288633879781421, 'jaccard': 0.2331744858693713}, {'X_set': [['region_2', 'Central Coast']], 'Y_set': [['province', 'California']], 'sup': 0.2331744858693713, 'conf': 1.0, 'lift': 4.288633879781421, 'jaccard': 0.3204118079630213}, {'X_set': [['region_2', 'Sonoma']], 'Y_set': [['country', 'US']], 'sup': 0.19841492316709564, 'conf': 1.0, 'lift': 5.039943488312356, 'jaccard': 0.19841492316709564}, {'X_set': [['region_2', 'Sonoma']], 'Y_set': [['province', 'California']], 'sup': 0.19841492316709564, 'conf': 1.0, 'lift': 5.039943488312356, 'jaccard': 0.2726476870819764}, {'X_set': [['province', 'California']], 'Y_set': [['country', 'US']], 'sup': 0.7277337478657526, 'conf': 1.0, 'lift': 1.3741289351122317, 'jaccard': 0.7277337478657526}, {'X_set': [['region_2', 'Napa']], 'Y_set': [['country', 'US']], 'sup': 0.13016997528095614, 'conf': 1.0, 'lift': 7.682263116679718, 'jaccard': 0.13016997528095614}, {'X_set': [['region_2', 'Napa']], 'Y_set': [['province', 'California']], 'sup': 0.13016997528095614, 'conf': 1.0, 'lift': 7.682263116679718, 'jaccard': 0.1788703295164058}, {'X_set': [['region_2', 'Columbia Valley']], 'Y_set': [['country', 'US'], ['province', 'Washington']], 'sup': 0.1474223388802528, 'conf': 1.0, 'lift': 6.783232497839239, 'jaccard': 0.9449526298595232}, {'X_set': [['region_2', 'Central Coast']], 'Y_set': [['province', 'California'], ['country', 'US']], 'sup': 0.2331744858693713, 'conf': 1.0, 'lift': 4.288633879781421, 'jaccard': 0.3204118079630213}, {'X_set': [['region_2', 'Sonoma']], 'Y_set': [['province', 'California'], ['country', 'US']], 'sup': 0.19841492316709564, 'conf': 1.0, 'lift': 5.039943488312356, 'jaccard': 0.2726476870819764}, {'X_set': [['region_2', 'Napa']], 'Y_set': [['province', 'California'], ['country', 'US']], 'sup': 0.13016997528095614, 'conf': 1.0, 'lift': 7.682263116679718, 'jaccard': 0.1788703295164058}, {'X_set': [['province', 'Washington']], 'Y_set': [['region_2', 'Columbia Valley']], 'sup': 0.1474223388802528, 'conf': 0.9449526298595231, 'lift': 6.056988916745761, 'jaccard': 0.9449526298595232}, {'X_set': [['province', 'Washington']], 'Y_set': [['country', 'US'], ['region_2', 'Columbia Valley']], 'sup': 0.1474223388802528, 'conf': 0.9449526298595231, 'lift': 6.056988916745761, 'jaccard': 0.9449526298595232}, {'X_set': [['country', 'US']], 'Y_set': [['province', 'California']], 'sup': 0.7277337478657526, 'conf': 0.7277337478657526, 'lift': 0.7277337478657526, 'jaccard': 0.7277337478657526}]\n"
     ]
    }
   ],
   "source": [
    "with open(\"./ocs_result/rules.json\") as f2:\n",
    "    rules = [json.loads(each) for each in f2.readlines()]\n",
    "    rules_sup = [each[\"sup\"] for each in rules]\n",
    "    rules_conf = [each[\"conf\"] for each in rules]\n",
    "    print(\"rules:\")\n",
    "    print(rules)"
   ]
  },
  {
   "cell_type": "code",
   "execution_count": null,
   "metadata": {},
   "outputs": [],
   "source": [
    "可以看出，在没有输入各个属性之间关系的情况下，学习到了country和province的关系（例California的一定是America的），说明这种方法能正确的学到频繁模式与强关联规则"
   ]
  },
  {
   "cell_type": "code",
   "execution_count": 6,
   "metadata": {},
   "outputs": [
    {
     "data": {
      "image/png": "[encoded data removed]",
      "text/plain": [
       "<Figure size 432x288 with 1 Axes>"
      ]
     },
     "metadata": {
      "needs_background": "light"
     },
     "output_type": "display_data"
    },
    {
     "data": {
      "image/png": "[encoded data removed]",
      "text/plain": [
       "<Figure size 432x288 with 1 Axes>"
      ]
     },
     "metadata": {
      "needs_background": "light"
     },
     "output_type": "display_data"
    }
   ],
   "source": [
    "plt.figure(1)\n",
    "plt.boxplot(freq_sup)\n",
    "plt.title(\"Frequent item\")\n",
    "plt.show()\n",
    "\n",
    "plt.figure(2)\n",
    "plt.scatter(rules_sup, rules_conf)\n",
    "plt.title(\"Rules\")\n",
    "plt.xlabel(\"Support\")\n",
    "plt.ylabel(\"Confidence\")\n",
    "plt.show()\n"
   ]
  }
 ],
 "metadata": {
  "kernelspec": {
   "display_name": "sjwj",
   "language": "python",
   "name": "sjwj"
  },
  "language_info": {
   "codemirror_mode": {
    "name": "ipython",
    "version": 3
   },
   "file_extension": ".py",
   "mimetype": "text/x-python",
   "name": "python",
   "nbconvert_exporter": "python",
   "pygments_lexer": "ipython3",
   "version": "3.9.7"
  }
 },
 "nbformat": 4,
 "nbformat_minor": 2
}
